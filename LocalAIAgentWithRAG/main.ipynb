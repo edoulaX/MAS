{
 "cells": [
  {
   "cell_type": "code",
   "execution_count": 2,
   "metadata": {},
   "outputs": [
    {
     "name": "stdout",
     "output_type": "stream",
     "text": []
    },
    {
     "name": "stdout",
     "output_type": "stream",
     "text": []
    }
   ],
   "source": [
    "# Ensure the virtual environment is activated before running this cell.\n",
    "# Install the required dependencies:\n",
    "!pip install langchain-core langchain-ollama"
   ]
  },
  {
   "cell_type": "code",
   "execution_count": 3,
   "metadata": {},
   "outputs": [
    {
     "name": "stdout",
     "output_type": "stream",
     "text": []
    },
    {
     "name": "stdout",
     "output_type": "stream",
     "text": []
    }
   ],
   "source": [
    "!pip install langchain_chroma\n"
   ]
  },
  {
   "cell_type": "code",
   "execution_count": 7,
   "metadata": {},
   "outputs": [
    {
     "name": "stdout",
     "output_type": "stream",
     "text": []
    },
    {
     "name": "stdout",
     "output_type": "stream",
     "text": []
    }
   ],
   "source": [
    "# install panda\n",
    "!pip install pandas"
   ]
  },
  {
   "cell_type": "code",
   "execution_count": null,
   "metadata": {},
   "outputs": [],
   "source": [
    "# Install the langgraph module\n",
    "!pip install langgraph"
   ]
  },
  {
   "cell_type": "code",
   "execution_count": 7,
   "metadata": {},
   "outputs": [
    {
     "name": "stdout",
     "output_type": "stream",
     "text": []
    }
   ],
   "source": [
    "# Pull the required model for embeddings\n",
    "from ollama import pull\n",
    "\n",
    "model_name = \"mxbai-embed-large\"\n",
    "pull(model_name)"
   ]
  },
  {
   "cell_type": "code",
   "execution_count": null,
   "metadata": {},
   "outputs": [
    {
     "name": "stdout",
     "output_type": "stream",
     "text": []
    }
   ],
   "source": [
    "from langchain_ollama.llms import OllamaLLM\n",
    "from langchain_core.prompts import ChatPromptTemplate\n",
    "from vector import retriever\n",
    "\n",
    "model = OllamaLLM(model=\"qwen2.5\")\n",
    "\n",
    "template = \"\"\"\n",
    "You are an exeprt in answering questions about a pizza restaurant\n",
    "\n",
    "Here are some relevant reviews: {reviews}\n",
    "\n",
    "Here is the question to answer: {question}\n",
    "\"\"\"\n",
    "prompt = ChatPromptTemplate.from_template(template)\n",
    "chain = prompt | model\n",
    "\n",
    "while True:\n",
    "    print(\"\\n\\n-------------------------------\")\n",
    "    question = input(\"Ask your question (q to quit): \")\n",
    "    print(\"\\n\\n\")\n",
    "    if question == \"q\":\n",
    "        break\n",
    "    \n",
    "    reviews = retriever.invoke(question)\n",
    "    result = chain.invoke({\"reviews\": reviews, \"question\": question})\n",
    "    print(result)"
   ]
  },
  {
   "cell_type": "code",
   "execution_count": 11,
   "metadata": {},
   "outputs": [
    {
     "name": "stdout",
     "output_type": "stream",
     "text": []
    }
   ],
   "source": [
    "from langchain_ollama import OllamaEmbeddings\n",
    "from langchain_chroma import Chroma\n",
    "from langchain_core.documents import Document\n",
    "import os\n",
    "import pandas as pd\n",
    "\n",
    "df = pd.read_csv(\"realistic_restaurant_reviews.csv\")\n",
    "embeddings = OllamaEmbeddings(model=\"mxbai-embed-large\")\n",
    "print(df.head())\n",
    "print(embeddings)\n",
    "db_location = \"./chrome_langchain_db\"\n",
    "add_documents = True\n",
    "print(f\"Add documents: {add_documents}\")\n",
    "print(f\"DB location: {db_location}\")\n",
    "\n",
    "if add_documents:\n",
    "    print(\"Adding documents to the vector store...\")\n",
    "    documents = []\n",
    "    ids = []\n",
    "    \n",
    "    for i, row in df.iterrows():\n",
    "        document = Document(\n",
    "            page_content=row[\"Title\"] + \" \" + row[\"Review\"],\n",
    "            metadata={\"rating\": row[\"Rating\"], \"date\": row[\"Date\"]},\n",
    "            id=str(i)\n",
    "        )\n",
    "        ids.append(str(i))\n",
    "        documents.append(document)\n",
    "\n",
    "\n",
    "vector_store = Chroma(\n",
    "    collection_name=\"restaurant_reviews\",\n",
    "    persist_directory=db_location,\n",
    "    embedding_function=embeddings\n",
    ")\n",
    "\n",
    "if add_documents:\n",
    "    vector_store.add_documents(documents=documents, ids=ids)\n",
    "    \n",
    "retriever = vector_store.as_retriever(\n",
    "    search_kwargs={\"k\": 5}\n",
    ")\n",
    "\n",
    "question = \"What do people think about the pizza?\"\n",
    "\n",
    "reviews = retriever.invoke(question)\n",
    "\n",
    "print(retriever)\n",
    "print(reviews)"
   ]
  }
 ],
 "metadata": {
  "kernelspec": {
   "display_name": ".venv",
   "language": "python",
   "name": "python3"
  },
  "language_info": {
   "codemirror_mode": {
    "name": "ipython",
    "version": 3
   },
   "file_extension": ".py",
   "mimetype": "text/x-python",
   "name": "python",
   "nbconvert_exporter": "python",
   "pygments_lexer": "ipython3",
   "version": "3.12.2"
  }
 },
 "nbformat": 4,
 "nbformat_minor": 5
}
